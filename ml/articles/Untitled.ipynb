{
 "cells": [
  {
   "cell_type": "markdown",
   "id": "8dcc68b0",
   "metadata": {},
   "source": [
    "<details>\n",
    "    <summary style=\"display: list-item\">Click <b>her</b> for instructions</summary>\n",
    "    <p>Instructions go here</p>\n",
    "</details>"
   ]
  }
 ],
 "metadata": {
  "kernelspec": {
   "display_name": "Python 3",
   "language": "python",
   "name": "python3"
  },
  "language_info": {
   "codemirror_mode": {
    "name": "ipython",
    "version": 3
   },
   "file_extension": ".py",
   "mimetype": "text/x-python",
   "name": "python",
   "nbconvert_exporter": "python",
   "pygments_lexer": "ipython3",
   "version": "3.9.5"
  }
 },
 "nbformat": 4,
 "nbformat_minor": 5
}
